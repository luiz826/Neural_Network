{
  "nbformat": 4,
  "nbformat_minor": 0,
  "metadata": {
    "colab": {
      "name": "Classificação de Tumores utilizando Redes Neurais e a biblioteca TensorFlow 2.X.ipynb",
      "provenance": [],
      "collapsed_sections": [
        "KYEw7gzRZqJn",
        "xm1Vj9V_aJkl",
        "xej6D8hbatAH"
      ],
      "mount_file_id": "1l4-78gG89iYINnBJ4BKqSCEwM4bovDK_",
      "authorship_tag": "ABX9TyO3HdLAPWUDHctAEzW8DASS",
      "include_colab_link": true
    },
    "kernelspec": {
      "name": "python3",
      "display_name": "Python 3"
    }
  },
  "cells": [
    {
      "cell_type": "markdown",
      "metadata": {
        "id": "view-in-github",
        "colab_type": "text"
      },
      "source": [
        "<a href=\"https://colab.research.google.com/github/luiz826/Neural_Network/blob/main/Classifica%C3%A7%C3%A3o_de_Tumores_utilizando_Redes_Neurais_e_a_biblioteca_TensorFlow_2_X.ipynb\" target=\"_parent\"><img src=\"https://colab.research.google.com/assets/colab-badge.svg\" alt=\"Open In Colab\"/></a>"
      ]
    },
    {
      "cell_type": "markdown",
      "metadata": {
        "id": "AX4uAnV3Z4e0"
      },
      "source": [
        "<h1><center>Classificação de Tumores utilizando Redes Neurais e a biblioteca TensorFlow 2.X</center></h1>\n",
        "\n",
        "<img src=\"https://images.unsplash.com/photo-1590859808308-3d2d9c515b1a?ixid=MXwxMjA3fDB8MHxwaG90by1wYWdlfHx8fGVufDB8fHw%3D&ixlib=rb-1.2.1&auto=format&fit=crop&w=1053&q=80\">\n",
        "\n",
        "<p1><center>photo by Uriel SC, on Unsplash</center></p1>"
      ]
    },
    {
      "cell_type": "markdown",
      "metadata": {
        "id": "KYEw7gzRZqJn"
      },
      "source": [
        "### Importação de bibliotecas e carregamento dos dados"
      ]
    },
    {
      "cell_type": "code",
      "metadata": {
        "id": "Unq6wOWQU9eH",
        "colab": {
          "base_uri": "https://localhost:8080/"
        },
        "outputId": "da924efb-0021-4650-c715-8410d9e262b0"
      },
      "source": [
        "import pandas as pd \n",
        "import numpy as np \n",
        "import matplotlib.pyplot as plt\n",
        "import tensorflow as tf\n",
        "from sklearn.model_selection import train_test_split\n",
        "from sklearn.metrics import confusion_matrix, accuracy_score\n",
        "tf.__version__"
      ],
      "execution_count": null,
      "outputs": [
        {
          "output_type": "execute_result",
          "data": {
            "application/vnd.google.colaboratory.intrinsic+json": {
              "type": "string"
            },
            "text/plain": [
              "'2.4.1'"
            ]
          },
          "metadata": {
            "tags": []
          },
          "execution_count": 1
        }
      ]
    },
    {
      "cell_type": "code",
      "metadata": {
        "id": "Jh9Ezt3iVEN0"
      },
      "source": [
        "df = pd.read_csv(\"/content/drive/MyDrive/Dados_formatados.csv\", sep=\";\", header=None)"
      ],
      "execution_count": null,
      "outputs": []
    },
    {
      "cell_type": "code",
      "metadata": {
        "colab": {
          "base_uri": "https://localhost:8080/"
        },
        "id": "VXWAKG3GwxO2",
        "outputId": "9b131bed-fd53-413f-ff69-3f85694ae16f"
      },
      "source": [
        "df.head()"
      ],
      "execution_count": null,
      "outputs": [
        {
          "output_type": "execute_result",
          "data": {
            "text/html": [
              "<div>\n",
              "<style scoped>\n",
              "    .dataframe tbody tr th:only-of-type {\n",
              "        vertical-align: middle;\n",
              "    }\n",
              "\n",
              "    .dataframe tbody tr th {\n",
              "        vertical-align: top;\n",
              "    }\n",
              "\n",
              "    .dataframe thead th {\n",
              "        text-align: right;\n",
              "    }\n",
              "</style>\n",
              "<table border=\"1\" class=\"dataframe\">\n",
              "  <thead>\n",
              "    <tr style=\"text-align: right;\">\n",
              "      <th></th>\n",
              "      <th>0</th>\n",
              "      <th>1</th>\n",
              "      <th>2</th>\n",
              "      <th>3</th>\n",
              "      <th>4</th>\n",
              "      <th>5</th>\n",
              "      <th>6</th>\n",
              "      <th>7</th>\n",
              "      <th>8</th>\n",
              "      <th>9</th>\n",
              "      <th>10</th>\n",
              "      <th>11</th>\n",
              "      <th>12</th>\n",
              "      <th>13</th>\n",
              "      <th>14</th>\n",
              "      <th>15</th>\n",
              "      <th>16</th>\n",
              "      <th>17</th>\n",
              "      <th>18</th>\n",
              "      <th>19</th>\n",
              "      <th>20</th>\n",
              "      <th>21</th>\n",
              "      <th>22</th>\n",
              "      <th>23</th>\n",
              "      <th>24</th>\n",
              "      <th>25</th>\n",
              "      <th>26</th>\n",
              "      <th>27</th>\n",
              "      <th>28</th>\n",
              "      <th>29</th>\n",
              "      <th>30</th>\n",
              "      <th>31</th>\n",
              "    </tr>\n",
              "  </thead>\n",
              "  <tbody>\n",
              "    <tr>\n",
              "      <th>0</th>\n",
              "      <td>842302</td>\n",
              "      <td>1</td>\n",
              "      <td>17.99</td>\n",
              "      <td>10.38</td>\n",
              "      <td>122.80</td>\n",
              "      <td>1001.0</td>\n",
              "      <td>0.11840</td>\n",
              "      <td>0.27760</td>\n",
              "      <td>0.3001</td>\n",
              "      <td>0.14710</td>\n",
              "      <td>0.2419</td>\n",
              "      <td>0.07871</td>\n",
              "      <td>1095.0000</td>\n",
              "      <td>0.9053</td>\n",
              "      <td>8589.0</td>\n",
              "      <td>153.40</td>\n",
              "      <td>0.006399</td>\n",
              "      <td>0.04904</td>\n",
              "      <td>0.05373</td>\n",
              "      <td>0.01587</td>\n",
              "      <td>0.03003</td>\n",
              "      <td>0.006193</td>\n",
              "      <td>25.38</td>\n",
              "      <td>17.33</td>\n",
              "      <td>184.60</td>\n",
              "      <td>2019.0</td>\n",
              "      <td>0.1622</td>\n",
              "      <td>0.6656</td>\n",
              "      <td>0.7119</td>\n",
              "      <td>0.2654</td>\n",
              "      <td>0.4601</td>\n",
              "      <td>0.11890</td>\n",
              "    </tr>\n",
              "    <tr>\n",
              "      <th>1</th>\n",
              "      <td>842517</td>\n",
              "      <td>1</td>\n",
              "      <td>20.57</td>\n",
              "      <td>17.77</td>\n",
              "      <td>132.90</td>\n",
              "      <td>1326.0</td>\n",
              "      <td>0.08474</td>\n",
              "      <td>0.07864</td>\n",
              "      <td>0.0869</td>\n",
              "      <td>0.07017</td>\n",
              "      <td>0.1812</td>\n",
              "      <td>0.05667</td>\n",
              "      <td>0.5435</td>\n",
              "      <td>0.7339</td>\n",
              "      <td>3398.0</td>\n",
              "      <td>74.08</td>\n",
              "      <td>0.005225</td>\n",
              "      <td>0.01308</td>\n",
              "      <td>0.01860</td>\n",
              "      <td>0.01340</td>\n",
              "      <td>0.01389</td>\n",
              "      <td>0.003532</td>\n",
              "      <td>24.99</td>\n",
              "      <td>23.41</td>\n",
              "      <td>158.80</td>\n",
              "      <td>1956.0</td>\n",
              "      <td>0.1238</td>\n",
              "      <td>0.1866</td>\n",
              "      <td>0.2416</td>\n",
              "      <td>186.0000</td>\n",
              "      <td>275.0000</td>\n",
              "      <td>0.08902</td>\n",
              "    </tr>\n",
              "    <tr>\n",
              "      <th>2</th>\n",
              "      <td>84300903</td>\n",
              "      <td>1</td>\n",
              "      <td>19.69</td>\n",
              "      <td>21.25</td>\n",
              "      <td>130.00</td>\n",
              "      <td>1203.0</td>\n",
              "      <td>0.10960</td>\n",
              "      <td>0.15990</td>\n",
              "      <td>0.1974</td>\n",
              "      <td>0.12790</td>\n",
              "      <td>0.2069</td>\n",
              "      <td>0.05999</td>\n",
              "      <td>0.7456</td>\n",
              "      <td>0.7869</td>\n",
              "      <td>4585.0</td>\n",
              "      <td>94.03</td>\n",
              "      <td>0.006150</td>\n",
              "      <td>0.04006</td>\n",
              "      <td>0.03832</td>\n",
              "      <td>0.02058</td>\n",
              "      <td>0.02250</td>\n",
              "      <td>0.004571</td>\n",
              "      <td>23.57</td>\n",
              "      <td>25.53</td>\n",
              "      <td>152.50</td>\n",
              "      <td>1709.0</td>\n",
              "      <td>0.1444</td>\n",
              "      <td>0.4245</td>\n",
              "      <td>0.4504</td>\n",
              "      <td>243.0000</td>\n",
              "      <td>0.3613</td>\n",
              "      <td>0.08758</td>\n",
              "    </tr>\n",
              "    <tr>\n",
              "      <th>3</th>\n",
              "      <td>84348301</td>\n",
              "      <td>1</td>\n",
              "      <td>11.42</td>\n",
              "      <td>20.38</td>\n",
              "      <td>77.58</td>\n",
              "      <td>386.1</td>\n",
              "      <td>0.14250</td>\n",
              "      <td>0.28390</td>\n",
              "      <td>0.2414</td>\n",
              "      <td>0.10520</td>\n",
              "      <td>0.2597</td>\n",
              "      <td>0.09744</td>\n",
              "      <td>0.4956</td>\n",
              "      <td>1156.0000</td>\n",
              "      <td>3445.0</td>\n",
              "      <td>27.23</td>\n",
              "      <td>0.009110</td>\n",
              "      <td>0.07458</td>\n",
              "      <td>0.05661</td>\n",
              "      <td>0.01867</td>\n",
              "      <td>0.05963</td>\n",
              "      <td>0.009208</td>\n",
              "      <td>14.91</td>\n",
              "      <td>26.50</td>\n",
              "      <td>98.87</td>\n",
              "      <td>567.7</td>\n",
              "      <td>0.2098</td>\n",
              "      <td>0.8663</td>\n",
              "      <td>0.6869</td>\n",
              "      <td>0.2575</td>\n",
              "      <td>0.6638</td>\n",
              "      <td>173.00000</td>\n",
              "    </tr>\n",
              "    <tr>\n",
              "      <th>4</th>\n",
              "      <td>84358402</td>\n",
              "      <td>1</td>\n",
              "      <td>20.29</td>\n",
              "      <td>14.34</td>\n",
              "      <td>135.10</td>\n",
              "      <td>1297.0</td>\n",
              "      <td>0.10030</td>\n",
              "      <td>0.13280</td>\n",
              "      <td>198.0000</td>\n",
              "      <td>0.10430</td>\n",
              "      <td>0.1809</td>\n",
              "      <td>0.05883</td>\n",
              "      <td>0.7572</td>\n",
              "      <td>0.7813</td>\n",
              "      <td>5438.0</td>\n",
              "      <td>94.44</td>\n",
              "      <td>0.011490</td>\n",
              "      <td>0.02461</td>\n",
              "      <td>0.05688</td>\n",
              "      <td>0.01885</td>\n",
              "      <td>0.01756</td>\n",
              "      <td>0.005115</td>\n",
              "      <td>22.54</td>\n",
              "      <td>16.67</td>\n",
              "      <td>152.20</td>\n",
              "      <td>1575.0</td>\n",
              "      <td>0.1374</td>\n",
              "      <td>205.0000</td>\n",
              "      <td>0.4000</td>\n",
              "      <td>0.1625</td>\n",
              "      <td>0.2364</td>\n",
              "      <td>0.07678</td>\n",
              "    </tr>\n",
              "  </tbody>\n",
              "</table>\n",
              "</div>"
            ],
            "text/plain": [
              "         0   1      2      3   ...      28        29        30         31\n",
              "0    842302   1  17.99  10.38  ...  0.7119    0.2654    0.4601    0.11890\n",
              "1    842517   1  20.57  17.77  ...  0.2416  186.0000  275.0000    0.08902\n",
              "2  84300903   1  19.69  21.25  ...  0.4504  243.0000    0.3613    0.08758\n",
              "3  84348301   1  11.42  20.38  ...  0.6869    0.2575    0.6638  173.00000\n",
              "4  84358402   1  20.29  14.34  ...  0.4000    0.1625    0.2364    0.07678\n",
              "\n",
              "[5 rows x 32 columns]"
            ]
          },
          "metadata": {
            "tags": []
          },
          "execution_count": 3
        }
      ]
    },
    {
      "cell_type": "code",
      "metadata": {
        "colab": {
          "base_uri": "https://localhost:8080/"
        },
        "id": "fC865WNEwzBV",
        "outputId": "10e1e24e-8ade-4808-dfc5-4d321d4193bd"
      },
      "source": [
        "df.info()"
      ],
      "execution_count": null,
      "outputs": [
        {
          "output_type": "stream",
          "text": [
            "<class 'pandas.core.frame.DataFrame'>\n",
            "RangeIndex: 569 entries, 0 to 568\n",
            "Data columns (total 32 columns):\n",
            " #   Column  Non-Null Count  Dtype  \n",
            "---  ------  --------------  -----  \n",
            " 0   0       569 non-null    int64  \n",
            " 1   1       569 non-null    int64  \n",
            " 2   2       569 non-null    float64\n",
            " 3   3       569 non-null    float64\n",
            " 4   4       569 non-null    float64\n",
            " 5   5       569 non-null    float64\n",
            " 6   6       569 non-null    float64\n",
            " 7   7       569 non-null    float64\n",
            " 8   8       569 non-null    float64\n",
            " 9   9       569 non-null    float64\n",
            " 10  10      569 non-null    float64\n",
            " 11  11      569 non-null    float64\n",
            " 12  12      569 non-null    float64\n",
            " 13  13      569 non-null    float64\n",
            " 14  14      569 non-null    float64\n",
            " 15  15      569 non-null    float64\n",
            " 16  16      569 non-null    float64\n",
            " 17  17      569 non-null    float64\n",
            " 18  18      569 non-null    float64\n",
            " 19  19      569 non-null    float64\n",
            " 20  20      569 non-null    float64\n",
            " 21  21      569 non-null    float64\n",
            " 22  22      569 non-null    float64\n",
            " 23  23      569 non-null    float64\n",
            " 24  24      569 non-null    float64\n",
            " 25  25      569 non-null    float64\n",
            " 26  26      569 non-null    float64\n",
            " 27  27      569 non-null    float64\n",
            " 28  28      569 non-null    float64\n",
            " 29  29      569 non-null    float64\n",
            " 30  30      569 non-null    float64\n",
            " 31  31      569 non-null    float64\n",
            "dtypes: float64(30), int64(2)\n",
            "memory usage: 142.4 KB\n"
          ],
          "name": "stdout"
        }
      ]
    },
    {
      "cell_type": "markdown",
      "metadata": {
        "id": "xm1Vj9V_aJkl"
      },
      "source": [
        "### Pré-processamento dos dados"
      ]
    },
    {
      "cell_type": "code",
      "metadata": {
        "id": "Kts6NzveXFH2"
      },
      "source": [
        "X = df.drop(columns=[0,1])\n",
        "y = df[1]"
      ],
      "execution_count": null,
      "outputs": []
    },
    {
      "cell_type": "code",
      "metadata": {
        "colab": {
          "base_uri": "https://localhost:8080/"
        },
        "id": "0ghl-TPBXZhI",
        "outputId": "d8508194-eb60-4148-df8a-fe6663e18015"
      },
      "source": [
        "y.value_counts(normalize=True).plot(kind=\"pie\", labels=[\"Benignos\", \"Malignos\"])\n",
        "plt.ylabel(\"\")\n",
        "\n",
        "plt.xlabel(\"Tumores Benignos: \"+ str(round(y.value_counts(normalize=True).values[0]*100)) +\"%\" +\n",
        "           \"\\n\\nTumores Malignos: \"+ str(round(y.value_counts(normalize=True).values[1]*100)) +\"%\")\n",
        "plt.show()"
      ],
      "execution_count": null,
      "outputs": [
        {
          "output_type": "display_data",
          "data": {
            "image/png": "[encoded data removed]",
            "text/plain": [
              "<Figure size 432x288 with 1 Axes>"
            ]
          },
          "metadata": {
            "tags": []
          }
        }
      ]
    },
    {
      "cell_type": "code",
      "metadata": {
        "colab": {
          "base_uri": "https://localhost:8080/"
        },
        "id": "PPORf4LKXl_L",
        "outputId": "b1157fd5-a07b-4471-ca12-d52e446b763e"
      },
      "source": [
        "X.shape"
      ],
      "execution_count": null,
      "outputs": [
        {
          "output_type": "execute_result",
          "data": {
            "text/plain": [
              "(569, 30)"
            ]
          },
          "metadata": {
            "tags": []
          },
          "execution_count": 7
        }
      ]
    },
    {
      "cell_type": "code",
      "metadata": {
        "id": "T621aAX_X3lN"
      },
      "source": [
        "def normaliza(col: np.array):\n",
        "    '''\n",
        "    col -> nome da coluna \n",
        "\n",
        "    return -> coluna normalizada \n",
        "    '''\n",
        "    colMax = col.max()\n",
        "    colMin = col.min()\n",
        "\n",
        "    new_col = (col - colMin) / (colMax - colMin)\n",
        "\n",
        "    return new_col"
      ],
      "execution_count": null,
      "outputs": []
    },
    {
      "cell_type": "code",
      "metadata": {
        "id": "q3JAdoSWX6Cj"
      },
      "source": [
        "for i in X.columns:\n",
        "    X[i] = normaliza(X[i].values)"
      ],
      "execution_count": null,
      "outputs": []
    },
    {
      "cell_type": "code",
      "metadata": {
        "id": "vAyV5a-waUNi"
      },
      "source": [
        "X = X.values\n",
        "y = y.values.reshape(-1, 1)"
      ],
      "execution_count": null,
      "outputs": []
    },
    {
      "cell_type": "code",
      "metadata": {
        "id": "dkx7A4AuawDc"
      },
      "source": [
        "X_train, X_test, y_train, y_test = train_test_split(X, y, test_size=.2, random_state=12)"
      ],
      "execution_count": null,
      "outputs": []
    },
    {
      "cell_type": "code",
      "metadata": {
        "colab": {
          "base_uri": "https://localhost:8080/"
        },
        "id": "oF_REnFVeYnq",
        "outputId": "592fb52f-9af9-49c2-b242-8a227ef52561"
      },
      "source": [
        "print(\"X_train shape: \", X_train.shape)\n",
        "print(\"y_train shape: \", y_train.shape)\n",
        "print(\"X_test shape: \", X_test.shape)\n",
        "print(\"y_test shape: \", y_test.shape)"
      ],
      "execution_count": null,
      "outputs": [
        {
          "output_type": "stream",
          "text": [
            "X_train shape:  (455, 30)\n",
            "y_train shape:  (455, 1)\n",
            "X_test shape:  (114, 30)\n",
            "y_test shape:  (114, 1)\n"
          ],
          "name": "stdout"
        }
      ]
    },
    {
      "cell_type": "markdown",
      "metadata": {
        "id": "xej6D8hbatAH"
      },
      "source": [
        "### Modelo"
      ]
    },
    {
      "cell_type": "markdown",
      "metadata": {
        "id": "oatde0vXCyHx"
      },
      "source": [
        "obs: Após alguns testes, percebi que o modelo chegava a métricas diferentes com os mesmos hiperparametros. Por isso decidi guardar os resultados em listas e tirar uma média aritmética dos resultados após 10 execuções."
      ]
    },
    {
      "cell_type": "code",
      "metadata": {
        "colab": {
          "base_uri": "https://localhost:8080/"
        },
        "id": "HsCghwoMZVX4",
        "outputId": "06bc4463-4a64-4a46-aa49-e43232bb01a9"
      },
      "source": [
        "media_loss_test = []\n",
        "media_acc_test = []\n",
        "media_loss_train = []\n",
        "media_acc_train = []\n",
        "\n",
        "for i in range(10):\n",
        "    model = tf.keras.models.Sequential([\n",
        "                                        tf.keras.layers.Dense(units= 128, activation=\"relu\", input_shape=(X.shape[1], )), \n",
        "\n",
        "                                        tf.keras.layers.Dense(units= 64, activation=\"relu\"),\n",
        "                                                                                                                                              \n",
        "                                        tf.keras.layers.Dense(units= 2, activation=\"sigmoid\")\n",
        "    ])\n",
        "\n",
        "    adam = tf.optimizers.Adam(learning_rate=0.005)\n",
        "    model.compile(optimizer=adam, loss=\"sparse_categorical_crossentropy\", metrics=\"sparse_categorical_accuracy\")\n",
        "\n",
        "    if i == 9:\n",
        "        print(\"Ultimo modelo sendo treinado:\\n\")\n",
        "        model.fit(X_train, y_train, epochs=20, batch_size=20, verbose=1)    \n",
        "    else:\n",
        "        model.fit(X_train, y_train, epochs=20, batch_size=20, verbose=0)\n",
        "\n",
        "    loss_test , acc_test = model.evaluate(X_test, y_test, verbose=0)\n",
        "\n",
        "    loss_train , acc_train = model.evaluate(X_train, y_train, verbose=0)\n",
        "\n",
        "    media_loss_test.append(loss_test)\n",
        "    media_acc_test.append(acc_test)\n",
        "\n",
        "    media_loss_train.append(loss_train)\n",
        "    media_acc_train.append(acc_train)\n",
        "    \n",
        "print(\"\\n\\nAs configurações do modelo usado: \\n\")\n",
        "model.summary()"
      ],
      "execution_count": null,
      "outputs": [
        {
          "output_type": "stream",
          "text": [
            "Ultimo modelo sendo treinado:\n",
            "\n",
            "Epoch 1/20\n",
            "23/23 [==============================] - 0s 1ms/step - loss: 0.5999 - sparse_categorical_accuracy: 0.7125\n",
            "Epoch 2/20\n",
            "23/23 [==============================] - 0s 1ms/step - loss: 0.2453 - sparse_categorical_accuracy: 0.8782\n",
            "Epoch 3/20\n",
            "23/23 [==============================] - 0s 1ms/step - loss: 0.1770 - sparse_categorical_accuracy: 0.9352\n",
            "Epoch 4/20\n",
            "23/23 [==============================] - 0s 1ms/step - loss: 0.1480 - sparse_categorical_accuracy: 0.9220\n",
            "Epoch 5/20\n",
            "23/23 [==============================] - 0s 2ms/step - loss: 0.1466 - sparse_categorical_accuracy: 0.9320\n",
            "Epoch 6/20\n",
            "23/23 [==============================] - 0s 1ms/step - loss: 0.1084 - sparse_categorical_accuracy: 0.9691\n",
            "Epoch 7/20\n",
            "23/23 [==============================] - 0s 1ms/step - loss: 0.1091 - sparse_categorical_accuracy: 0.9695\n",
            "Epoch 8/20\n",
            "23/23 [==============================] - 0s 1ms/step - loss: 0.0764 - sparse_categorical_accuracy: 0.9827\n",
            "Epoch 9/20\n",
            "23/23 [==============================] - 0s 1ms/step - loss: 0.1032 - sparse_categorical_accuracy: 0.9519\n",
            "Epoch 10/20\n",
            "23/23 [==============================] - 0s 2ms/step - loss: 0.1228 - sparse_categorical_accuracy: 0.9377\n",
            "Epoch 11/20\n",
            "23/23 [==============================] - 0s 1ms/step - loss: 0.1376 - sparse_categorical_accuracy: 0.9316\n",
            "Epoch 12/20\n",
            "23/23 [==============================] - 0s 1ms/step - loss: 0.0804 - sparse_categorical_accuracy: 0.9663\n",
            "Epoch 13/20\n",
            "23/23 [==============================] - 0s 2ms/step - loss: 0.0848 - sparse_categorical_accuracy: 0.9742\n",
            "Epoch 14/20\n",
            "23/23 [==============================] - 0s 2ms/step - loss: 0.0605 - sparse_categorical_accuracy: 0.9813\n",
            "Epoch 15/20\n",
            "23/23 [==============================] - 0s 1ms/step - loss: 0.0538 - sparse_categorical_accuracy: 0.9742\n",
            "Epoch 16/20\n",
            "23/23 [==============================] - 0s 2ms/step - loss: 0.0386 - sparse_categorical_accuracy: 0.9865\n",
            "Epoch 17/20\n",
            "23/23 [==============================] - 0s 2ms/step - loss: 0.0315 - sparse_categorical_accuracy: 0.9876\n",
            "Epoch 18/20\n",
            "23/23 [==============================] - 0s 2ms/step - loss: 0.0460 - sparse_categorical_accuracy: 0.9821\n",
            "Epoch 19/20\n",
            "23/23 [==============================] - 0s 1ms/step - loss: 0.0515 - sparse_categorical_accuracy: 0.9781\n",
            "Epoch 20/20\n",
            "23/23 [==============================] - 0s 1ms/step - loss: 0.0623 - sparse_categorical_accuracy: 0.9833\n",
            "\n",
            "\n",
            "As configurações do modelo usado: \n",
            "\n",
            "Model: \"sequential_19\"\n",
            "_________________________________________________________________\n",
            "Layer (type)                 Output Shape              Param #   \n",
            "=================================================================\n",
            "dense_57 (Dense)             (None, 128)               3968      \n",
            "_________________________________________________________________\n",
            "dense_58 (Dense)             (None, 64)                8256      \n",
            "_________________________________________________________________\n",
            "dense_59 (Dense)             (None, 2)                 130       \n",
            "=================================================================\n",
            "Total params: 12,354\n",
            "Trainable params: 12,354\n",
            "Non-trainable params: 0\n",
            "_________________________________________________________________\n"
          ],
          "name": "stdout"
        }
      ]
    },
    {
      "cell_type": "markdown",
      "metadata": {
        "id": "yr4LXYqhClfi"
      },
      "source": [
        "###Resultados"
      ]
    },
    {
      "cell_type": "code",
      "metadata": {
        "id": "iYrm3nuWoJA2",
        "colab": {
          "base_uri": "https://localhost:8080/"
        },
        "outputId": "f9b97d9d-4ecf-4a43-feaa-683ac4b9b666"
      },
      "source": [
        "print(f\"\\nMédia da função de perda no conjunto de treino: {np.mean(media_loss_train):.2f}\\n\")\n",
        "print(f\"Média da acurácia no conjunto de treino: {np.mean(media_acc_train):.2f}\\n\")\n",
        "\n",
        "print(f\"\\nMédia da função de perda no conjunto de teste: {np.mean(media_loss_test):.2f}\\n\")\n",
        "print(f\"Média da acurácia no conjunto de teste: {np.mean(media_acc_test):.2f}\\n\")"
      ],
      "execution_count": null,
      "outputs": [
        {
          "output_type": "stream",
          "text": [
            "\n",
            "Média da função de perda no conjunto de treino: 0.05\n",
            "\n",
            "Média da acurácia no conjunto de treino: 0.98\n",
            "\n",
            "\n",
            "Média da função de perda no conjunto de teste: 0.15\n",
            "\n",
            "Média da acurácia no conjunto de teste: 0.95\n",
            "\n"
          ],
          "name": "stdout"
        }
      ]
    }
  ]
}